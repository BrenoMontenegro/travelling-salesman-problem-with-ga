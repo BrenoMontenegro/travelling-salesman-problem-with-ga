{
  "nbformat": 4,
  "nbformat_minor": 0,
  "metadata": {
    "colab": {
      "provenance": []
    },
    "kernelspec": {
      "name": "python3",
      "display_name": "Python 3"
    },
    "language_info": {
      "name": "python"
    }
  },
  "cells": [
    {
      "cell_type": "markdown",
      "source": [
        "# Instituto Federal de Educação, Ciência e Tecnologia de Pernambuco.\n",
        "### Nesta atividade, o problema do caixeiro viajante será implementado.\n",
        "###  Integrantes: Breno Henrique Montenegro de Freitas e Elton Luiz Alves.\n",
        "### Professor: Rodrigo Lira.\n"
      ],
      "metadata": {
        "id": "8oq63ganIxmf"
      }
    },
    {
      "cell_type": "markdown",
      "source": [
        "# Instruções:\n",
        "\n",
        "- Preparar o problema TSP para aplicação de AG.\n",
        "- Usar a instância do TSP disponível em: https://gist.github.com/rodrigoclira/1cc3dfc603740decb4269096aa7ac122.\n",
        "- Cálculo de fitness:\n",
        "Implementar função que calcula a distância total de uma rota (analisar exercício de fixação).\n",
        "- Validação:\n",
        "Implementar função que verifica se uma rota é válida (todas as cidades visitadas exatamente uma vez)."
      ],
      "metadata": {
        "id": "tIpWPMdnKj31"
      }
    },
    {
      "cell_type": "markdown",
      "source": [
        "# Instância do TSP com 13 cidades.\n",
        "- Nesta primeira seção, será utilizada uma instância disponibilizada pelo professor através do link: https://gist.github.com/rodrigoclira/1cc3dfc603740decb4269096aa7ac122"
      ],
      "metadata": {
        "id": "F33yPuCVJhaN"
      }
    },
    {
      "cell_type": "code",
      "execution_count": 2,
      "metadata": {
        "id": "-LXGBqPPInzS",
        "colab": {
          "base_uri": "https://localhost:8080/"
        },
        "outputId": "6b72b9d8-fb99-4036-86d5-fd56e3e012f1"
      },
      "outputs": [
        {
          "output_type": "stream",
          "name": "stdout",
          "text": [
            "A rota gerada foi:  [2, 4, 12, 11, 9, 1, 6, 7, 3, 8, 5, 10, 0, 2]\n",
            "14938\n"
          ]
        }
      ],
      "source": [
        "import random\n",
        "# TSP https://developers.google.com/optimization/routing/tsp#python\n",
        "\n",
        "# 0. New York - 1. Los Angeles - 2. Chicago - 3. Minneapolis - 4. Denver - 5. Dallas - 6. Seattle - 7. Boston - 8. San Francisco - 9. St. Louis - 10. Houston - 11. Phoenix - 12. Salt Lake City\n",
        "# New York is the start and end location. Distance is measured in miles.\n",
        "\n",
        "USA13 = [\n",
        "        [0, 2451, 713, 1018, 1631, 1374, 2408, 213, 2571, 875, 1420, 2145, 1972],\n",
        "        [2451, 0, 1745, 1524, 831, 1240, 959, 2596, 403, 1589, 1374, 357, 579],\n",
        "        [713, 1745, 0, 355, 920, 803, 1737, 851, 1858, 262, 940, 1453, 1260],\n",
        "        [1018, 1524, 355, 0, 700, 862, 1395, 1123, 1584, 466, 1056, 1280, 987],\n",
        "        [1631, 831, 920, 700, 0, 663, 1021, 1769, 949, 796, 879, 586, 371],\n",
        "        [1374, 1240, 803, 862, 663, 0, 1681, 1551, 1765, 547, 225, 887, 999],\n",
        "        [2408, 959, 1737, 1395, 1021, 1681, 0, 2493, 678, 1724, 1891, 1114, 701],\n",
        "        [213, 2596, 851, 1123, 1769, 1551, 2493, 0, 2699, 1038, 1605, 2300, 2099],\n",
        "        [2571, 403, 1858, 1584, 949, 1765, 678, 2699, 0, 1744, 1645, 653, 600],\n",
        "        [875, 1589, 262, 466, 796, 547, 1724, 1038, 1744, 0, 679, 1272, 1162],\n",
        "        [1420, 1374, 940, 1056, 879, 225, 1891, 1605, 1645, 679, 0, 1017, 1200],\n",
        "        [2145, 357, 1453, 1280, 586, 887, 1114, 2300, 653, 1272, 1017, 0, 504],\n",
        "        [1972, 579, 1260, 987, 371, 999, 701, 2099, 600, 1162, 1200, 504, 0],\n",
        "    ]\n",
        "\n",
        "def calcular_distancia_total(rota,matriz):\n",
        "  distancia_total = 0\n",
        "  for i in range(len(rota) - 1):\n",
        "    distancia_total += matriz[rota[i]][rota[i + 1]]\n",
        "  return distancia_total\n",
        "\n",
        "def valida_rota(rota, numero_cidades):\n",
        "  return (rota[0] == rota[-1]) and (len(set(rota[:-1])) == numero_cidades)\n",
        "\n",
        "def gerar_rota(numero_cidades):\n",
        "  rota = list(range(numero_cidades))\n",
        "  random.shuffle(rota)\n",
        "  rota.append(rota[0])\n",
        "  return rota\n",
        "\n",
        "rota_teste = gerar_rota(13)\n",
        "print(\"A rota gerada foi: \",rota_teste)\n",
        "resultado_rota = valida_rota(rota_teste,13)\n",
        "if(resultado_rota):\n",
        "  print(calcular_distancia_total(rota_teste,USA13))\n",
        "else:\n",
        "  print(\"Rota inválida\")\n",
        "\n",
        "\n"
      ]
    }
  ]
}